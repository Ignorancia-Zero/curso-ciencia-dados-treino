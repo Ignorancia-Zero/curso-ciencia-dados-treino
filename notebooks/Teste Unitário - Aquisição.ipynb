{
 "cells": [
  {
   "cell_type": "markdown",
   "metadata": {},
   "source": [
    "# Teste Unitário - Aquisição"
   ]
  },
  {
   "cell_type": "markdown",
   "metadata": {},
   "source": [
    "**Objetivo**: Gerar as bases amostrais do pacote de aquisição"
   ]
  },
  {
   "cell_type": "markdown",
   "metadata": {},
   "source": [
    "---"
   ]
  },
  {
   "cell_type": "markdown",
   "metadata": {},
   "source": [
    "## Cabeçalho "
   ]
  },
  {
   "cell_type": "markdown",
   "metadata": {},
   "source": [
    "### Imports "
   ]
  },
  {
   "cell_type": "code",
   "execution_count": 1,
   "metadata": {
    "ExecuteTime": {
     "end_time": "2022-06-25T12:57:23.039141Z",
     "start_time": "2022-06-25T12:57:21.734273Z"
    }
   },
   "outputs": [],
   "source": [
    "import gc\n",
    "import os\n",
    "import pyunpack\n",
    "import rarfile\n",
    "import shutil\n",
    "import sys\n",
    "import zipfile\n",
    "import numpy as np\n",
    "import pandas as pd\n",
    "import geopandas as gpd\n",
    "\n",
    "from io import BytesIO\n",
    "from pathlib import Path\n",
    "from tqdm import tqdm"
   ]
  },
  {
   "cell_type": "markdown",
   "metadata": {},
   "source": [
    "### Configurações "
   ]
  },
  {
   "cell_type": "code",
   "execution_count": 2,
   "metadata": {
    "ExecuteTime": {
     "end_time": "2022-06-25T12:57:24.140220Z",
     "start_time": "2022-06-25T12:57:24.130247Z"
    }
   },
   "outputs": [],
   "source": [
    "%config Completer.use_jedi = False"
   ]
  },
  {
   "cell_type": "markdown",
   "metadata": {},
   "source": [
    "### Caminhos "
   ]
  },
  {
   "cell_type": "code",
   "execution_count": 3,
   "metadata": {
    "ExecuteTime": {
     "end_time": "2022-06-25T12:57:24.621956Z",
     "start_time": "2022-06-25T12:57:24.610988Z"
    }
   },
   "outputs": [],
   "source": [
    "try:\n",
    "    PASTA_NOTEBOOK / \"\"\n",
    "except:\n",
    "    PASTA_NOTEBOOK = Path(os.getcwd())\n",
    "    \n",
    "PASTA_PROJETO = PASTA_NOTEBOOK.parent\n",
    "PASTA_DADOS = PASTA_PROJETO / \"dados\"\n",
    "PASTA_EXTERNO = PASTA_DADOS / \"externo\"\n",
    "PASTA_TESTE = PASTA_PROJETO / \"src/tests\"\n",
    "PASTA_TESTE_CODIGO = PASTA_TESTE / \"codigos\"\n",
    "PASTA_TESTE_DADOS = PASTA_TESTE / \"dados\"\n",
    "\n",
    "PASTA_TESTE_CODIGO.mkdir(exist_ok=True)\n",
    "PASTA_TESTE_DADOS.mkdir(exist_ok=True)\n",
    "\n",
    "os.chdir(PASTA_PROJETO)"
   ]
  },
  {
   "cell_type": "markdown",
   "metadata": {},
   "source": [
    "---"
   ]
  },
  {
   "cell_type": "markdown",
   "metadata": {},
   "source": [
    "## Códigos "
   ]
  },
  {
   "cell_type": "code",
   "execution_count": null,
   "metadata": {
    "ExecuteTime": {
     "end_time": "2021-10-22T00:36:52.380037Z",
     "start_time": "2021-10-22T00:36:52.372051Z"
    }
   },
   "outputs": [],
   "source": [
    "docentes = pd.read_pickle(PASTA_TESTE_CODIGO / \"docentes.pkl\").values\n",
    "escolas = pd.read_pickle(PASTA_TESTE_CODIGO / \"escolas.pkl\").values\n",
    "gestores = pd.read_pickle(PASTA_TESTE_CODIGO / \"gestores.pkl\").values\n",
    "matriculas = pd.read_pickle(PASTA_TESTE_CODIGO / \"matriculas.pkl\").values\n",
    "turmas = pd.read_pickle(PASTA_TESTE_CODIGO / \"turmas.pkl\").values"
   ]
  },
  {
   "cell_type": "markdown",
   "metadata": {},
   "source": [
    "---"
   ]
  },
  {
   "cell_type": "markdown",
   "metadata": {},
   "source": [
    "## Censo Escolar "
   ]
  },
  {
   "cell_type": "code",
   "execution_count": null,
   "metadata": {
    "ExecuteTime": {
     "end_time": "2021-09-22T05:29:52.513787Z",
     "start_time": "2021-09-22T01:44:05.532172Z"
    }
   },
   "outputs": [],
   "source": [
    "caminho_entrada = PASTA_EXTERNO / \"censo_escolar\"\n",
    "caminho_saida = PASTA_TESTE_DADOS / \"externo/censo_escolar\"\n",
    "caminho_saida.mkdir(exist_ok=True, parents=True)\n",
    "tabelas = {\n",
    "    \"docentes_co\": [docentes, (\"ID_DOCENTE\", \"FK_COD_DOCENTE\", \"CO_PESSOA_FISICA\")], \n",
    "    \"docentes_nordeste\": [docentes, (\"ID_DOCENTE\", \"FK_COD_DOCENTE\", \"CO_PESSOA_FISICA\")], \n",
    "    \"docentes_norte\": [docentes, (\"ID_DOCETE\", \"FK_COD_DOCENTE\", \"CO_PESSOA_FISICA\")], \n",
    "    \"docentes_sudeste\": [docentes, (\"ID_DOCENTE\", \"FK_COD_DOCENTE\", \"CO_PESSOA_FISICA\")], \n",
    "    \"docentes_sul\": [docentes, (\"ID_DOCENTE\", \"FK_COD_DOCENTE\", \"CO_PESSOA_FISICA\")], \n",
    "    \"escolas\": [escolas, (\"PK_COD_ENTIDADE\", \"CO_ENTIDADE\")], \n",
    "    \"gestor\": [gestores, (\"ID_GESTOR\",)], \n",
    "    \"matricula_co\": [matriculas, (\"PK_COD_MATRICULA\", \"ID_MATRICULA\")], \n",
    "    \"matricula_nordeste\": [matriculas, (\"PK_COD_MATRICULA\", \"ID_MATRICULA\")], \n",
    "    \"matricula_norte\": [matriculas, (\"PK_COD_MATRICULA\", \"ID_MATRICULA\")], \n",
    "    \"matricula_sudeste\": [matriculas, (\"PK_COD_MATRICULA\", \"ID_MATRICULA\")], \n",
    "    \"matricula_sul\": [matriculas, (\"PK_COD_MATRICULA\", \"ID_MATRICULA\")], \n",
    "    \"turmas\": [turmas, (\"ID_TURMA\", \"PK_COD_TURMA\")], \n",
    "}\n",
    "\n",
    "# para cada arquivo do censo demográfico\n",
    "for censo in tqdm(os.listdir(caminho_entrada)):\n",
    "    # abre o arquivo zip com o conteúdo do censo\n",
    "    with zipfile.ZipFile(caminho_entrada / f\"{censo}\") as zin:\n",
    "        # lista os arquivos que precisam de uma versão amostral\n",
    "        arqs = [\n",
    "            f \n",
    "            for tabela in tabelas\n",
    "            for f in zin.namelist() \n",
    "            if f\"{tabela}.\" in f.lower()\n",
    "        ]\n",
    "        \n",
    "        if len(arqs) == 0:\n",
    "            continue\n",
    "        \n",
    "        # cria uma cópia do arquivo zip na pasta de destino\n",
    "        with zipfile.ZipFile(\n",
    "            caminho_saida / f\"{censo}\", \n",
    "            mode=\"w\", \n",
    "            compression=zipfile.ZIP_DEFLATED, \n",
    "            compresslevel=9\n",
    "        ) as zout:\n",
    "            # para cada item no arquivo de entrada\n",
    "            # for item in zin.infolist():\n",
    "            #     # verifica se o item faz parte de um dos arquivos amostrais\n",
    "            #     if item.filename not in arqs:\n",
    "            #         # se não, o copia para o novo zip\n",
    "            #         zout.writestr(item, zin.read(item.filename))\n",
    "            \n",
    "            # para os demais itens\n",
    "            for arq in arqs:\n",
    "                tabela = arq.lower().split(\"/\")[-1].split(\".\")[0]\n",
    "                arq_zip = arq.split(\"/\")[-1].split(\".\")[0]\n",
    "                \n",
    "                # carrega o arquivo CSV\n",
    "                if \".csv\" in arq.lower():\n",
    "                    df = pd.read_csv(zin.open(arq), encoding=\"latin-1\", sep=\"|\")\n",
    "                elif \".zip\" in arq.lower():\n",
    "                    with zipfile.ZipFile(zin.open(arq)) as z2:\n",
    "                        para_abrir = z2.namelist()[0]\n",
    "                        df = pd.read_csv(z2.open(para_abrir), encoding=\"latin-1\", sep=\"|\")\n",
    "                elif \".rar\" in arq.lower():\n",
    "                    zin.extract(arq, path=caminho_entrada)\n",
    "                    pyunpack.Archive(caminho_entrada / f\"{arq}\").extractall(caminho_entrada)\n",
    "                    csv = [\n",
    "                        f\n",
    "                        for f in os.listdir(caminho_entrada)\n",
    "                        if f\"{tabela}.\" in f.lower()\n",
    "                    ][0]\n",
    "                    df = pd.read_csv(caminho_entrada / f\"{csv}\", encoding=\"latin-1\", sep=\"|\")\n",
    "                    shutil.rmtree(caminho_entrada / f\"{arq.split('/')[0]}\")\n",
    "                    os.remove(caminho_entrada / f\"{csv}\")\n",
    "\n",
    "                # aplica os filtros sobre o arquivo\n",
    "                col = [c for c in tabelas[tabela][1] if c in df][0]\n",
    "                df = df.loc[lambda f: f[col].isin(tabelas[tabela][0])]\n",
    "                \n",
    "                # exporta o resultado\n",
    "                # df.to_parquet(PASTA_TESTE_AQUIS / f\"intermediario/{tabela}.parquet\", index=False)\n",
    "                if \".csv\" in arq.lower():\n",
    "                    txt = df.to_csv(encoding=\"latin-1\", sep=\"|\", index=False)\n",
    "                    zout.writestr(arq, txt)\n",
    "                elif \".zip\" in arq.lower():\n",
    "                    with zipfile.ZipFile(\n",
    "                        caminho_saida / f\"{arq_zip}.zip\", \n",
    "                        mode=\"w\", \n",
    "                        compression=zipfile.ZIP_DEFLATED, \n",
    "                        compresslevel=9\n",
    "                    ) as zinner:\n",
    "                        txt = df.to_csv(encoding=\"latin-1\", sep=\"|\", index=False)\n",
    "                        zinner.writestr(f\"{arq_zip}.csv\", txt)\n",
    "                    zout.write(f\"{caminho_saida / arq_zip}.zip\", arq)\n",
    "                    os.remove(f\"{caminho_saida / arq_zip}.zip\")\n",
    "                elif \".rar\" in arq.lower():\n",
    "                    os.chdir(caminho_saida)\n",
    "                    df.to_csv(f\"{arq_zip}.csv\", encoding=\"latin-1\", sep=\"|\", index=False)\n",
    "                    if \"win\" in sys.platform:\n",
    "                        os.system(f\"{PASTA_PROJETO / 'suporte/WinRAR/rar'} a {arq_zip}.rar {arq_zip}.csv\")\n",
    "                    else:\n",
    "                        os.system(f\"rar a {arq_zip}.rar {arq_zip}.csv\")\n",
    "                    zout.write(f\"{caminho_saida / arq_zip}.rar\", arq)\n",
    "                    os.remove(f\"{caminho_saida / arq_zip}.csv\")\n",
    "                    os.remove(f\"{caminho_saida / arq_zip}.rar\")\n",
    "                    os.chdir(PASTA_PROJETO)"
   ]
  },
  {
   "cell_type": "markdown",
   "metadata": {},
   "source": [
    "---"
   ]
  },
  {
   "cell_type": "markdown",
   "metadata": {},
   "source": [
    "## IDEB "
   ]
  },
  {
   "cell_type": "code",
   "execution_count": null,
   "metadata": {
    "ExecuteTime": {
     "end_time": "2021-10-22T01:03:14.687102Z",
     "start_time": "2021-10-22T01:01:20.450506Z"
    }
   },
   "outputs": [],
   "source": [
    "caminho_entrada = PASTA_EXTERNO / \"ideb\"\n",
    "caminho_saida = PASTA_TESTE_DADOS / \"externo/ideb\"\n",
    "caminho_saida.mkdir(exist_ok=True, parents=True)\n",
    "\n",
    "for f in tqdm(os.listdir(caminho_entrada)):\n",
    "    nome = os.path.splitext(f)[0]\n",
    "    with zipfile.ZipFile(caminho_entrada / f) as z:\n",
    "        data = pd.read_excel(z.open(f\"{nome}/{nome}.xlsx\"), header=None)\n",
    "        sample = (\n",
    "            data.head(10)\n",
    "            .append(data[data[3].astype(\"str\").isin(escolas.astype(\"str\"))])\n",
    "            .append(data.tail(3))\n",
    "        )\n",
    "        \n",
    "    with zipfile.ZipFile(\n",
    "        caminho_saida / f, \n",
    "        mode=\"w\", \n",
    "        compression=zipfile.ZIP_DEFLATED, \n",
    "        compresslevel=9\n",
    "    ) as zout:\n",
    "        sample.to_excel(caminho_saida / f\"{nome}.xlsx\", header=None, index=False)\n",
    "        zout.write(caminho_saida / f\"{nome}.xlsx\", f\"{nome}/{nome}.xlsx\")\n",
    "        os.remove(caminho_saida / f\"{nome}.xlsx\")"
   ]
  },
  {
   "cell_type": "markdown",
   "metadata": {},
   "source": [
    "## Malha Município "
   ]
  },
  {
   "cell_type": "code",
   "execution_count": 28,
   "metadata": {
    "ExecuteTime": {
     "end_time": "2022-06-25T13:46:37.853197Z",
     "start_time": "2022-06-25T13:46:37.486903Z"
    }
   },
   "outputs": [],
   "source": [
    "df = gpd.read_file(\"zip://dados/externo/ibge/BR_Pais_2021.zip\")"
   ]
  },
  {
   "cell_type": "code",
   "execution_count": 29,
   "metadata": {
    "ExecuteTime": {
     "end_time": "2022-06-25T13:46:41.781654Z",
     "start_time": "2022-06-25T13:46:40.127133Z"
    }
   },
   "outputs": [
    {
     "data": {
      "text/html": [
       "<div>\n",
       "<style scoped>\n",
       "    .dataframe tbody tr th:only-of-type {\n",
       "        vertical-align: middle;\n",
       "    }\n",
       "\n",
       "    .dataframe tbody tr th {\n",
       "        vertical-align: top;\n",
       "    }\n",
       "\n",
       "    .dataframe thead th {\n",
       "        text-align: right;\n",
       "    }\n",
       "</style>\n",
       "<table border=\"1\" class=\"dataframe\">\n",
       "  <thead>\n",
       "    <tr style=\"text-align: right;\">\n",
       "      <th></th>\n",
       "      <th>NM_PAIS</th>\n",
       "      <th>AREA_KM2</th>\n",
       "      <th>geometry</th>\n",
       "    </tr>\n",
       "  </thead>\n",
       "  <tbody>\n",
       "    <tr>\n",
       "      <th>0</th>\n",
       "      <td>Brasil</td>\n",
       "      <td>8510345.54</td>\n",
       "      <td>MULTIPOLYGON (((-49.71294 -29.32558, -49.71257...</td>\n",
       "    </tr>\n",
       "  </tbody>\n",
       "</table>\n",
       "</div>"
      ],
      "text/plain": [
       "  NM_PAIS    AREA_KM2                                           geometry\n",
       "0  Brasil  8510345.54  MULTIPOLYGON (((-49.71294 -29.32558, -49.71257..."
      ]
     },
     "execution_count": 29,
     "metadata": {},
     "output_type": "execute_result"
    }
   ],
   "source": [
    "df"
   ]
  },
  {
   "cell_type": "code",
   "execution_count": 10,
   "metadata": {
    "ExecuteTime": {
     "end_time": "2022-06-25T13:01:15.579837Z",
     "start_time": "2022-06-25T13:01:15.059546Z"
    }
   },
   "outputs": [
    {
     "name": "stderr",
     "output_type": "stream",
     "text": [
      "C:\\Users\\pedro.forli\\AppData\\Local\\Temp/ipykernel_9656/2969920936.py:1: UserWarning: Geometry is in a geographic CRS. Results from 'centroid' are likely incorrect. Use 'GeoSeries.to_crs()' to re-project geometries to a projected CRS before this operation.\n",
      "\n",
      "  p = df.centroid.values[0]\n"
     ]
    }
   ],
   "source": [
    "p = df.centroid.values[0]"
   ]
  },
  {
   "cell_type": "code",
   "execution_count": 25,
   "metadata": {
    "ExecuteTime": {
     "end_time": "2022-06-25T13:21:36.895311Z",
     "start_time": "2022-06-25T13:21:36.884370Z"
    }
   },
   "outputs": [],
   "source": [
    "from pyproj import Geod\n",
    "from shapely import wkt\n",
    "\n",
    "# specify a named ellipsoid\n",
    "geod = Geod(ellps=\"WGS84\")"
   ]
  },
  {
   "cell_type": "code",
   "execution_count": 23,
   "metadata": {
    "ExecuteTime": {
     "end_time": "2022-06-25T13:21:32.800253Z",
     "start_time": "2022-06-25T13:21:32.788257Z"
    }
   },
   "outputs": [],
   "source": [
    "poly = df[\"geometry\"].values[0]"
   ]
  },
  {
   "cell_type": "code",
   "execution_count": 27,
   "metadata": {
    "ExecuteTime": {
     "end_time": "2022-06-25T13:21:47.289498Z",
     "start_time": "2022-06-25T13:21:47.268092Z"
    }
   },
   "outputs": [
    {
     "data": {
      "text/plain": [
       "7067.126907547882"
      ]
     },
     "execution_count": 27,
     "metadata": {},
     "output_type": "execute_result"
    }
   ],
   "source": [
    "abs(geod.geometry_area_perimeter(poly)[0]) / 1000000"
   ]
  },
  {
   "cell_type": "code",
   "execution_count": 22,
   "metadata": {
    "ExecuteTime": {
     "end_time": "2022-06-25T13:20:01.559096Z",
     "start_time": "2022-06-25T13:20:01.394743Z"
    }
   },
   "outputs": [
    {
     "data": {
      "text/html": [
       "<div>\n",
       "<style scoped>\n",
       "    .dataframe tbody tr th:only-of-type {\n",
       "        vertical-align: middle;\n",
       "    }\n",
       "\n",
       "    .dataframe tbody tr th {\n",
       "        vertical-align: top;\n",
       "    }\n",
       "\n",
       "    .dataframe thead th {\n",
       "        text-align: right;\n",
       "    }\n",
       "</style>\n",
       "<table border=\"1\" class=\"dataframe\">\n",
       "  <thead>\n",
       "    <tr style=\"text-align: right;\">\n",
       "      <th></th>\n",
       "      <th>CD_MUN</th>\n",
       "      <th>NM_MUN</th>\n",
       "      <th>SIGLA</th>\n",
       "      <th>AREA_KM2</th>\n",
       "      <th>geometry</th>\n",
       "    </tr>\n",
       "  </thead>\n",
       "  <tbody>\n",
       "    <tr>\n",
       "      <th>0</th>\n",
       "      <td>1100015</td>\n",
       "      <td>Alta Floresta D'Oeste</td>\n",
       "      <td>RO</td>\n",
       "      <td>7067.127</td>\n",
       "      <td>POLYGON ((-62.19465 -11.82746, -62.19332 -11.8...</td>\n",
       "    </tr>\n",
       "    <tr>\n",
       "      <th>1</th>\n",
       "      <td>1100023</td>\n",
       "      <td>Ariquemes</td>\n",
       "      <td>RO</td>\n",
       "      <td>4426.571</td>\n",
       "      <td>POLYGON ((-62.53648 -9.73222, -62.52765 -9.736...</td>\n",
       "    </tr>\n",
       "    <tr>\n",
       "      <th>2</th>\n",
       "      <td>1100031</td>\n",
       "      <td>Cabixi</td>\n",
       "      <td>RO</td>\n",
       "      <td>1314.352</td>\n",
       "      <td>POLYGON ((-60.37119 -13.36655, -60.37134 -13.3...</td>\n",
       "    </tr>\n",
       "    <tr>\n",
       "      <th>3</th>\n",
       "      <td>1100049</td>\n",
       "      <td>Cacoal</td>\n",
       "      <td>RO</td>\n",
       "      <td>3793.000</td>\n",
       "      <td>POLYGON ((-61.00080 -11.29737, -61.00103 -11.3...</td>\n",
       "    </tr>\n",
       "    <tr>\n",
       "      <th>4</th>\n",
       "      <td>1100056</td>\n",
       "      <td>Cerejeiras</td>\n",
       "      <td>RO</td>\n",
       "      <td>2783.300</td>\n",
       "      <td>POLYGON ((-61.49976 -13.00525, -61.49809 -13.0...</td>\n",
       "    </tr>\n",
       "    <tr>\n",
       "      <th>...</th>\n",
       "      <td>...</td>\n",
       "      <td>...</td>\n",
       "      <td>...</td>\n",
       "      <td>...</td>\n",
       "      <td>...</td>\n",
       "    </tr>\n",
       "    <tr>\n",
       "      <th>5567</th>\n",
       "      <td>5222005</td>\n",
       "      <td>Vianópolis</td>\n",
       "      <td>GO</td>\n",
       "      <td>954.115</td>\n",
       "      <td>POLYGON ((-48.42801 -16.62789, -48.42803 -16.6...</td>\n",
       "    </tr>\n",
       "    <tr>\n",
       "      <th>5568</th>\n",
       "      <td>5222054</td>\n",
       "      <td>Vicentinópolis</td>\n",
       "      <td>GO</td>\n",
       "      <td>733.794</td>\n",
       "      <td>POLYGON ((-49.84740 -17.57796, -49.84719 -17.5...</td>\n",
       "    </tr>\n",
       "    <tr>\n",
       "      <th>5569</th>\n",
       "      <td>5222203</td>\n",
       "      <td>Vila Boa</td>\n",
       "      <td>GO</td>\n",
       "      <td>1052.593</td>\n",
       "      <td>POLYGON ((-47.10998 -14.67195, -47.10994 -14.6...</td>\n",
       "    </tr>\n",
       "    <tr>\n",
       "      <th>5570</th>\n",
       "      <td>5222302</td>\n",
       "      <td>Vila Propício</td>\n",
       "      <td>GO</td>\n",
       "      <td>2181.593</td>\n",
       "      <td>POLYGON ((-48.75572 -14.86393, -48.75502 -14.8...</td>\n",
       "    </tr>\n",
       "    <tr>\n",
       "      <th>5571</th>\n",
       "      <td>5300108</td>\n",
       "      <td>Brasília</td>\n",
       "      <td>DF</td>\n",
       "      <td>5760.784</td>\n",
       "      <td>POLYGON ((-47.41734 -15.54655, -47.41720 -15.5...</td>\n",
       "    </tr>\n",
       "  </tbody>\n",
       "</table>\n",
       "<p>5572 rows × 5 columns</p>\n",
       "</div>"
      ],
      "text/plain": [
       "       CD_MUN                 NM_MUN SIGLA  AREA_KM2  \\\n",
       "0     1100015  Alta Floresta D'Oeste    RO  7067.127   \n",
       "1     1100023              Ariquemes    RO  4426.571   \n",
       "2     1100031                 Cabixi    RO  1314.352   \n",
       "3     1100049                 Cacoal    RO  3793.000   \n",
       "4     1100056             Cerejeiras    RO  2783.300   \n",
       "...       ...                    ...   ...       ...   \n",
       "5567  5222005             Vianópolis    GO   954.115   \n",
       "5568  5222054         Vicentinópolis    GO   733.794   \n",
       "5569  5222203               Vila Boa    GO  1052.593   \n",
       "5570  5222302          Vila Propício    GO  2181.593   \n",
       "5571  5300108               Brasília    DF  5760.784   \n",
       "\n",
       "                                               geometry  \n",
       "0     POLYGON ((-62.19465 -11.82746, -62.19332 -11.8...  \n",
       "1     POLYGON ((-62.53648 -9.73222, -62.52765 -9.736...  \n",
       "2     POLYGON ((-60.37119 -13.36655, -60.37134 -13.3...  \n",
       "3     POLYGON ((-61.00080 -11.29737, -61.00103 -11.3...  \n",
       "4     POLYGON ((-61.49976 -13.00525, -61.49809 -13.0...  \n",
       "...                                                 ...  \n",
       "5567  POLYGON ((-48.42801 -16.62789, -48.42803 -16.6...  \n",
       "5568  POLYGON ((-49.84740 -17.57796, -49.84719 -17.5...  \n",
       "5569  POLYGON ((-47.10998 -14.67195, -47.10994 -14.6...  \n",
       "5570  POLYGON ((-48.75572 -14.86393, -48.75502 -14.8...  \n",
       "5571  POLYGON ((-47.41734 -15.54655, -47.41720 -15.5...  \n",
       "\n",
       "[5572 rows x 5 columns]"
      ]
     },
     "execution_count": 22,
     "metadata": {},
     "output_type": "execute_result"
    }
   ],
   "source": [
    "df"
   ]
  },
  {
   "cell_type": "code",
   "execution_count": 21,
   "metadata": {
    "ExecuteTime": {
     "end_time": "2022-06-25T13:19:57.485146Z",
     "start_time": "2022-06-25T13:19:57.422519Z"
    }
   },
   "outputs": [
    {
     "name": "stderr",
     "output_type": "stream",
     "text": [
      "C:\\Users\\pedro.forli\\AppData\\Local\\Temp/ipykernel_9656/2704296042.py:1: UserWarning: Geometry is in a geographic CRS. Results from 'area' are likely incorrect. Use 'GeoSeries.to_crs()' to re-project geometries to a projected CRS before this operation.\n",
      "\n",
      "  df.area\n"
     ]
    },
    {
     "data": {
      "text/plain": [
       "0       0.587657\n",
       "1       0.364965\n",
       "2       0.109724\n",
       "3       0.314085\n",
       "4       0.232089\n",
       "          ...   \n",
       "5567    0.080884\n",
       "5568    0.062507\n",
       "5569    0.088448\n",
       "5570    0.183550\n",
       "5571    0.485863\n",
       "Length: 5572, dtype: float64"
      ]
     },
     "execution_count": 21,
     "metadata": {},
     "output_type": "execute_result"
    }
   ],
   "source": [
    "df.area *"
   ]
  },
  {
   "cell_type": "code",
   "execution_count": 16,
   "metadata": {
    "ExecuteTime": {
     "end_time": "2022-06-25T13:03:33.619028Z",
     "start_time": "2022-06-25T13:03:32.563890Z"
    }
   },
   "outputs": [
    {
     "data": {
      "text/html": [
       "<div>\n",
       "<style scoped>\n",
       "    .dataframe tbody tr th:only-of-type {\n",
       "        vertical-align: middle;\n",
       "    }\n",
       "\n",
       "    .dataframe tbody tr th {\n",
       "        vertical-align: top;\n",
       "    }\n",
       "\n",
       "    .dataframe thead th {\n",
       "        text-align: right;\n",
       "    }\n",
       "</style>\n",
       "<table border=\"1\" class=\"dataframe\">\n",
       "  <thead>\n",
       "    <tr style=\"text-align: right;\">\n",
       "      <th></th>\n",
       "      <th>CO_MUNICIPIO</th>\n",
       "      <th>NM_MUN</th>\n",
       "      <th>UF</th>\n",
       "      <th>AREA_KM2</th>\n",
       "      <th>geometry</th>\n",
       "      <th>LATITUDE</th>\n",
       "      <th>LONGITUDE</th>\n",
       "    </tr>\n",
       "  </thead>\n",
       "  <tbody>\n",
       "    <tr>\n",
       "      <th>0</th>\n",
       "      <td>1100015</td>\n",
       "      <td>Alta Floresta D'Oeste</td>\n",
       "      <td>RO</td>\n",
       "      <td>7067.127</td>\n",
       "      <td>POLYGON ((-62.19465 -11.82746, -62.19332 -11.8...</td>\n",
       "      <td>-12.470132</td>\n",
       "      <td>-62.274661</td>\n",
       "    </tr>\n",
       "    <tr>\n",
       "      <th>1</th>\n",
       "      <td>1100023</td>\n",
       "      <td>Ariquemes</td>\n",
       "      <td>RO</td>\n",
       "      <td>4426.571</td>\n",
       "      <td>POLYGON ((-62.53648 -9.73222, -62.52765 -9.736...</td>\n",
       "      <td>-9.951890</td>\n",
       "      <td>-62.957255</td>\n",
       "    </tr>\n",
       "    <tr>\n",
       "      <th>2</th>\n",
       "      <td>1100031</td>\n",
       "      <td>Cabixi</td>\n",
       "      <td>RO</td>\n",
       "      <td>1314.352</td>\n",
       "      <td>POLYGON ((-60.37119 -13.36655, -60.37134 -13.3...</td>\n",
       "      <td>-13.474879</td>\n",
       "      <td>-60.639807</td>\n",
       "    </tr>\n",
       "    <tr>\n",
       "      <th>3</th>\n",
       "      <td>1100049</td>\n",
       "      <td>Cacoal</td>\n",
       "      <td>RO</td>\n",
       "      <td>3793.000</td>\n",
       "      <td>POLYGON ((-61.00080 -11.29737, -61.00103 -11.3...</td>\n",
       "      <td>-11.301287</td>\n",
       "      <td>-61.324729</td>\n",
       "    </tr>\n",
       "    <tr>\n",
       "      <th>4</th>\n",
       "      <td>1100056</td>\n",
       "      <td>Cerejeiras</td>\n",
       "      <td>RO</td>\n",
       "      <td>2783.300</td>\n",
       "      <td>POLYGON ((-61.49976 -13.00525, -61.49809 -13.0...</td>\n",
       "      <td>-13.203562</td>\n",
       "      <td>-61.260950</td>\n",
       "    </tr>\n",
       "    <tr>\n",
       "      <th>...</th>\n",
       "      <td>...</td>\n",
       "      <td>...</td>\n",
       "      <td>...</td>\n",
       "      <td>...</td>\n",
       "      <td>...</td>\n",
       "      <td>...</td>\n",
       "      <td>...</td>\n",
       "    </tr>\n",
       "    <tr>\n",
       "      <th>5567</th>\n",
       "      <td>5222005</td>\n",
       "      <td>Vianópolis</td>\n",
       "      <td>GO</td>\n",
       "      <td>954.115</td>\n",
       "      <td>POLYGON ((-48.42801 -16.62789, -48.42803 -16.6...</td>\n",
       "      <td>-16.812810</td>\n",
       "      <td>-48.440772</td>\n",
       "    </tr>\n",
       "    <tr>\n",
       "      <th>5568</th>\n",
       "      <td>5222054</td>\n",
       "      <td>Vicentinópolis</td>\n",
       "      <td>GO</td>\n",
       "      <td>733.794</td>\n",
       "      <td>POLYGON ((-49.84740 -17.57796, -49.84719 -17.5...</td>\n",
       "      <td>-17.723637</td>\n",
       "      <td>-49.872692</td>\n",
       "    </tr>\n",
       "    <tr>\n",
       "      <th>5569</th>\n",
       "      <td>5222203</td>\n",
       "      <td>Vila Boa</td>\n",
       "      <td>GO</td>\n",
       "      <td>1052.593</td>\n",
       "      <td>POLYGON ((-47.10998 -14.67195, -47.10994 -14.6...</td>\n",
       "      <td>-14.993116</td>\n",
       "      <td>-47.062373</td>\n",
       "    </tr>\n",
       "    <tr>\n",
       "      <th>5570</th>\n",
       "      <td>5222302</td>\n",
       "      <td>Vila Propício</td>\n",
       "      <td>GO</td>\n",
       "      <td>2181.593</td>\n",
       "      <td>POLYGON ((-48.75572 -14.86393, -48.75502 -14.8...</td>\n",
       "      <td>-15.269677</td>\n",
       "      <td>-48.813538</td>\n",
       "    </tr>\n",
       "    <tr>\n",
       "      <th>5571</th>\n",
       "      <td>5300108</td>\n",
       "      <td>Brasília</td>\n",
       "      <td>DF</td>\n",
       "      <td>5760.784</td>\n",
       "      <td>POLYGON ((-47.41734 -15.54655, -47.41720 -15.5...</td>\n",
       "      <td>-15.781166</td>\n",
       "      <td>-47.796851</td>\n",
       "    </tr>\n",
       "  </tbody>\n",
       "</table>\n",
       "<p>5572 rows × 7 columns</p>\n",
       "</div>"
      ],
      "text/plain": [
       "      CO_MUNICIPIO                 NM_MUN  UF  AREA_KM2  \\\n",
       "0          1100015  Alta Floresta D'Oeste  RO  7067.127   \n",
       "1          1100023              Ariquemes  RO  4426.571   \n",
       "2          1100031                 Cabixi  RO  1314.352   \n",
       "3          1100049                 Cacoal  RO  3793.000   \n",
       "4          1100056             Cerejeiras  RO  2783.300   \n",
       "...            ...                    ...  ..       ...   \n",
       "5567       5222005             Vianópolis  GO   954.115   \n",
       "5568       5222054         Vicentinópolis  GO   733.794   \n",
       "5569       5222203               Vila Boa  GO  1052.593   \n",
       "5570       5222302          Vila Propício  GO  2181.593   \n",
       "5571       5300108               Brasília  DF  5760.784   \n",
       "\n",
       "                                               geometry   LATITUDE  LONGITUDE  \n",
       "0     POLYGON ((-62.19465 -11.82746, -62.19332 -11.8... -12.470132 -62.274661  \n",
       "1     POLYGON ((-62.53648 -9.73222, -62.52765 -9.736...  -9.951890 -62.957255  \n",
       "2     POLYGON ((-60.37119 -13.36655, -60.37134 -13.3... -13.474879 -60.639807  \n",
       "3     POLYGON ((-61.00080 -11.29737, -61.00103 -11.3... -11.301287 -61.324729  \n",
       "4     POLYGON ((-61.49976 -13.00525, -61.49809 -13.0... -13.203562 -61.260950  \n",
       "...                                                 ...        ...        ...  \n",
       "5567  POLYGON ((-48.42801 -16.62789, -48.42803 -16.6... -16.812810 -48.440772  \n",
       "5568  POLYGON ((-49.84740 -17.57796, -49.84719 -17.5... -17.723637 -49.872692  \n",
       "5569  POLYGON ((-47.10998 -14.67195, -47.10994 -14.6... -14.993116 -47.062373  \n",
       "5570  POLYGON ((-48.75572 -14.86393, -48.75502 -14.8... -15.269677 -48.813538  \n",
       "5571  POLYGON ((-47.41734 -15.54655, -47.41720 -15.5... -15.781166 -47.796851  \n",
       "\n",
       "[5572 rows x 7 columns]"
      ]
     },
     "execution_count": 16,
     "metadata": {},
     "output_type": "execute_result"
    }
   ],
   "source": [
    "(\n",
    "    df.rename(columns={\n",
    "        \"CD_UF\": \"CO_UF\",\n",
    "        \"NM_UF\": \"NO_UF\",\n",
    "        \"NM_REGIAO\": \"NO_REGIAO\",\n",
    "        \"SIGLA\": \"UF\"\n",
    "    })\n",
    "    .assign(\n",
    "        CO_UF=lambda f: f[\"CO_UF\"].astype(int),\n",
    "        AREA_KM2=lambda f: f.area,\n",
    "        LATITUDE=lambda f: f[\"geometry\"].apply(lambda x: x.centroid.coords[0][1]),\n",
    "        LONGITUDE=lambda f: f[\"geometry\"].apply(lambda x: x.centroid.coords[0][0])\n",
    "    )\n",
    ")"
   ]
  },
  {
   "cell_type": "markdown",
   "metadata": {},
   "source": [
    "---"
   ]
  }
 ],
 "metadata": {
  "hide_input": false,
  "kernelspec": {
   "display_name": "Python 3 (ipykernel)",
   "language": "python",
   "name": "python3"
  },
  "language_info": {
   "codemirror_mode": {
    "name": "ipython",
    "version": 3
   },
   "file_extension": ".py",
   "mimetype": "text/x-python",
   "name": "python",
   "nbconvert_exporter": "python",
   "pygments_lexer": "ipython3",
   "version": "3.9.7"
  },
  "toc": {
   "base_numbering": 1,
   "nav_menu": {},
   "number_sections": true,
   "sideBar": true,
   "skip_h1_title": true,
   "title_cell": "Table of Contents",
   "title_sidebar": "Contents",
   "toc_cell": false,
   "toc_position": {},
   "toc_section_display": true,
   "toc_window_display": true
  },
  "varInspector": {
   "cols": {
    "lenName": 16,
    "lenType": 16,
    "lenVar": 40
   },
   "kernels_config": {
    "python": {
     "delete_cmd_postfix": "",
     "delete_cmd_prefix": "del ",
     "library": "var_list.py",
     "varRefreshCmd": "print(var_dic_list())"
    },
    "r": {
     "delete_cmd_postfix": ") ",
     "delete_cmd_prefix": "rm(",
     "library": "var_list.r",
     "varRefreshCmd": "cat(var_dic_list()) "
    }
   },
   "types_to_exclude": [
    "module",
    "function",
    "builtin_function_or_method",
    "instance",
    "_Feature"
   ],
   "window_display": false
  }
 },
 "nbformat": 4,
 "nbformat_minor": 4
}
